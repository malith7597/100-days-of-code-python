{
  "nbformat": 4,
  "nbformat_minor": 0,
  "metadata": {
    "colab": {
      "provenance": [],
      "authorship_tag": "ABX9TyPRoPdMxeS4x8aLCLoz+aUM",
      "include_colab_link": true
    },
    "kernelspec": {
      "name": "python3",
      "display_name": "Python 3"
    },
    "language_info": {
      "name": "python"
    }
  },
  "cells": [
    {
      "cell_type": "markdown",
      "metadata": {
        "id": "view-in-github",
        "colab_type": "text"
      },
      "source": [
        "<a href=\"https://colab.research.google.com/github/malith7597/100-days-of-code-python/blob/main/Sorted_Squares_in_sorted_array.ipynb\" target=\"_parent\"><img src=\"https://colab.research.google.com/assets/colab-badge.svg\" alt=\"Open In Colab\"/></a>"
      ]
    },
    {
      "cell_type": "markdown",
      "source": [
        "[,2, 1,4,5,8] => [1,4,16,25,64]\n"
      ],
      "metadata": {
        "id": "ClphFybmql5H"
      }
    },
    {
      "cell_type": "code",
      "execution_count": 1,
      "metadata": {
        "colab": {
          "base_uri": "https://localhost:8080/"
        },
        "id": "TNNU130cqacf",
        "outputId": "a220315c-b816-47ea-9e5b-a9760e3a6f32"
      },
      "outputs": [
        {
          "output_type": "execute_result",
          "data": {
            "text/plain": [
              "[4, 9, 9, 49, 121]"
            ]
          },
          "metadata": {},
          "execution_count": 1
        }
      ],
      "source": [
        "def sortedSquares(array):\n",
        "    squares = [x * x for x in array]\n",
        "    squares.sort()\n",
        "    return squares\n",
        "\n",
        "\n",
        "sortedSquares([-4, -1, 0, 3, 10])\n",
        "sortedSquares([-7, -3, 2, 3, 11])\n"
      ]
    },
    {
      "cell_type": "markdown",
      "source": [
        "time complexity of the solution :  O(n* logn)\n",
        "space complexity :\n"
      ],
      "metadata": {
        "id": "8bd9QeDbq-Ce"
      }
    },
    {
      "cell_type": "code",
      "source": [
        "def sortedSquareArray(array):\n",
        "    #two pointers\n",
        "    squares = [0 for x in array]\n",
        "    smallerValueIdx = 0\n",
        "    largerValueIdx = len(array) - 1\n",
        "    for idx in reversed(range(len(array))):\n",
        "        smallerValue = array[smallerValueIdx]*array[smallerValueIdx]\n",
        "        largerValue = array[largerValueIdx] * array[largerValueIdx]\n",
        "        if smallerValue > largerValue:\n",
        "            squares[idx] = smallerValue\n",
        "            smallerValueIdx += 1\n",
        "        else:\n",
        "            squares[idx] = largerValue\n",
        "            largerValueIdx -= 1\n",
        "    return squares\n",
        "\n",
        "\n",
        "sortedSquareArray([-4, -1, 0, 3, 10])\n",
        "sortedSquareArray([-7, -3, 2, 3, 11])\n"
      ],
      "metadata": {
        "colab": {
          "base_uri": "https://localhost:8080/"
        },
        "id": "_Xl1lLtFqxzk",
        "outputId": "f9541e2d-5ebe-408a-86e7-0d1d33194351"
      },
      "execution_count": 1,
      "outputs": [
        {
          "output_type": "execute_result",
          "data": {
            "text/plain": [
              "[4, 9, 9, 49, 121]"
            ]
          },
          "metadata": {},
          "execution_count": 1
        }
      ]
    }
  ]
}