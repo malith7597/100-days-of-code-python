{
  "nbformat": 4,
  "nbformat_minor": 0,
  "metadata": {
    "colab": {
      "provenance": [],
      "authorship_tag": "ABX9TyPmcJnTJpkKIihryCag/jVF",
      "include_colab_link": true
    },
    "kernelspec": {
      "name": "python3",
      "display_name": "Python 3"
    },
    "language_info": {
      "name": "python"
    }
  },
  "cells": [
    {
      "cell_type": "markdown",
      "metadata": {
        "id": "view-in-github",
        "colab_type": "text"
      },
      "source": [
        "<a href=\"https://colab.research.google.com/github/malith7597/100-days-of-code-python/blob/main/Day_2_Leetcode_Move_a_array_by_k_times.ipynb\" target=\"_parent\"><img src=\"https://colab.research.google.com/assets/colab-badge.svg\" alt=\"Open In Colab\"/></a>"
      ]
    },
    {
      "cell_type": "markdown",
      "source": [
        "My implementation"
      ],
      "metadata": {
        "id": "reBATfUSp4Mc"
      }
    },
    {
      "cell_type": "code",
      "execution_count": 9,
      "metadata": {
        "colab": {
          "base_uri": "https://localhost:8080/"
        },
        "id": "FPCnwYLolFK9",
        "outputId": "5c23f3e1-50fd-4a29-bfd9-d22c8b264fda"
      },
      "outputs": [
        {
          "output_type": "stream",
          "name": "stdout",
          "text": [
            "[3, 4, 1, 2]\n",
            "[2, 3, 4, 1]\n"
          ]
        }
      ],
      "source": [
        "def moveArrayKTimes(k, array):\n",
        "    arr= [0]*len(array)\n",
        "    for i in range(len(array)):\n",
        "        if i + k < len(array):\n",
        "            arr[i + k] = array[i]\n",
        "        else:\n",
        "            arr[i + k - len(array)] = array[i]\n",
        "    return arr\n",
        "\n",
        "\n",
        "print(moveArrayKTimes(2, [1, 2, 3, 4]))\n",
        "print(moveArrayKTimes(3, [1, 2, 3, 4]))\n",
        "\n",
        "\n",
        "\n"
      ]
    },
    {
      "cell_type": "markdown",
      "source": [
        "ChatGPT Suggestion\n"
      ],
      "metadata": {
        "id": "jqdA1okr-A0P"
      }
    },
    {
      "cell_type": "code",
      "source": [
        "def moveArrayKTimes(k, array):\n",
        "    arr = [0] * len(array)  # Create an array of the same length\n",
        "\n",
        "    for i in range(len(array)):  # Iterate through all elements\n",
        "        new_index = (i + k) % len(array)  # Calculate the correct index\n",
        "        arr[new_index] = array[i]  # Place the element in the new position\n",
        "\n",
        "    return arr\n",
        "\n",
        "\n",
        "print(moveArrayKTimes(2, [1, 2, 3, 4, 5]))  # Output: [4, 5, 1, 2, 3]\n",
        "print(moveArrayKTimes(3, [1, 2, 3, 4, 5]))  # Output: [3, 4, 5, 1, 2]\n"
      ],
      "metadata": {
        "colab": {
          "base_uri": "https://localhost:8080/"
        },
        "id": "AqR63LFE-IVM",
        "outputId": "f11d0219-bb59-4a12-ce31-79c7cceb6796"
      },
      "execution_count": 10,
      "outputs": [
        {
          "output_type": "stream",
          "name": "stdout",
          "text": [
            "[4, 5, 1, 2, 3]\n",
            "[3, 4, 5, 1, 2]\n"
          ]
        }
      ]
    }
  ]
}